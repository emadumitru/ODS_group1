{
 "cells": [
  {
   "cell_type": "code",
   "execution_count": 2,
   "metadata": {},
   "outputs": [],
   "source": [
    "import pandas as pd\n",
    "import networkx as nx\n",
    "# import matplotlib.pyplot as plt\n",
    "from community import community_louvain\n",
    "import numpy as np"
   ]
  },
  {
   "cell_type": "code",
   "execution_count": 13,
   "metadata": {},
   "outputs": [],
   "source": [
    "def load_graph(path, county):\n",
    "\n",
    "    features_df = pd.read_csv(path + county + '_features.csv', header=None).rename(columns={0: 'GEOID', 1: 'population', 2: 'neighboors'})\n",
    "    distances_df = pd.read_csv(path + county + '_distances.csv').drop(columns=['Node_ID'])\n",
    "\n",
    "    distances_df.columns = distances_df.index\n",
    "    print(features_df)\n",
    "\n",
    "\n",
    "    pop_dict = features_df['population'].to_dict()\n",
    "    geoid_dict = features_df['GEOID'].to_dict()\n",
    "    neighboors_dict = features_df['neighboors'].to_dict()\n",
    "    print(neighboors_dict)\n",
    "    print(geoid_dict)\n",
    "\n",
    "    full_graph = nx.from_pandas_adjacency(distances_df)\n",
    "    nx.set_node_attributes(full_graph, pop_dict, 'population')\n",
    "    nx.set_node_attributes(full_graph, geoid_dict, 'geoid')\n",
    "\n",
    "    print(full_graph.nodes(data=True))\n",
    "\n",
    "    G = nx.Graph()\n",
    "\n",
    "    for node, edges in full_graph.adjacency():\n",
    "        G.add_node(node, **full_graph.nodes[node])\n",
    "        neighbor_geoids = neighboors_dict.get(node, []).split(',')\n",
    "        \n",
    "        # Iterate over the edges\n",
    "        for neighbor, attributes in edges.items():\n",
    "            if str(geoid_dict.get(neighbor)) in neighbor_geoids:\n",
    "                G.add_edge(node, neighbor, **attributes)\n",
    "    \n",
    "    return G"
   ]
  },
  {
   "cell_type": "code",
   "execution_count": 14,
   "metadata": {},
   "outputs": [
    {
     "name": "stdout",
     "output_type": "stream",
     "text": [
      "    GEOID  population                                 neighboors\n",
      "0    5047       17097              05083,05033,05131,05071,05087\n",
      "1    5033       60133                    05047,05131,05087,05143\n",
      "2    5067       16755  05111,05037,05145,05063,05147,05075,05031\n",
      "3    5021       14552                                05055,05121\n",
      "4    5045      123498  05029,05141,05105,05119,05023,05085,05145\n",
      "..    ...         ...                                        ...\n",
      "70   5143      245871                          05033,05087,05007\n",
      "71   5101        7225        05009,05115,05129,05071,05087,05015\n",
      "72   5013        4739              05039,05139,05103,05025,05011\n",
      "73   5037       16833              05123,05111,05035,05147,05067\n",
      "74   5107       16568                    05077,05095,05041,05001\n",
      "\n",
      "[75 rows x 3 columns]\n",
      "{0: '05083,05033,05131,05071,05087', 1: '05047,05131,05087,05143', 2: '05111,05037,05145,05063,05147,05075,05031', 3: '05055,05121', 4: '05029,05141,05105,05119,05023,05085,05145', 5: '05089,05129,05137,05049,05065', 6: '05061,05133,05091,05057', 7: '05089,05129,05101,05015', 8: '05139,05043,05011,05017', 9: '05043,05079,05001,05017,05107', 10: '05077,05035,05037,05147,05095', 11: '05019,05109,05113,05051,05059,05149,05127', 12: '05063,05075,05049,05121,05065', 13: '05021,05075,05121,05031', 14: '05123,05037,05145,05117,05067,05095', 15: '05045,05023,05085,05117,05063,05147,05067', 16: '05123,05035,05095,05107', 17: '05115,05141,05105,05149,05045', 18: '05133,05109,05113,05057,05081', 19: '05019,05109,05103,05073,05057,05027', 20: '05105,05125,05045,05053,05085,05069', 21: '05059,05039,05125,05119,05025,05069', 22: '05087,05143,05015', 23: '05101,05047,05033,05071,05143,05007,05015', 24: '05019,05059,05103,05013,05053,05025', 25: '05039,05013,05053,05043,05079,05069,05011', 26: '05077,05123,05111,05093,05037', 27: '05091,05099,05057,05027', 28: '05051,05059,05105,05119,05053', 29: '05043,05041,05003', 30: '05029,05141,05129,05149,05101,05083,05071', 31: '05009,05129,05005', 32: '05085,05145,05147,05095,05001', 33: '05139,05013,05043,05025,05003', 34: '05079,05025,05011,05041,05003,05017', 35: '05061,05019,05097,05099,05057', 36: '05103,05013,05011,05003,05027', 37: '05047,05083,05033,05127', 38: '05063,05067,05135,05055,05121,05031', 39: '05035,05093,05037,05067,05031', 40: '05061,05109,05073,05091,05099,05081', 41: '05141,05129,05023,05063,05005,05065', 42: '05061,05133,05097,05127', 43: '05023,05145,05067,05135,05075,05137,05065', 44: '05119,05045,05145,05117,05069,05001', 45: '05109,05059,05097,05039,05103,05099', 46: '05135,05005,05065', 47: '05115,05149,05047,05131,05071,05127', 48: '05073,05057,05081', 49: '05085,05117,05095,05079,05069,05041,05107', 50: '05009,05101,05087,05007', 51: '05115,05029,05129,05045,05023,05137', 52: '05115,05101,05047,05083,05087', 53: '05009,05115,05089,05141,05101,05005,05137', 54: '05059,05097,05105,05149,05125', 55: '05061,05113,05081', 56: '05119,05053,05085,05079,05025,05001', 57: '05043,05025,05069,05041,05001', 58: '05135,05055,05021,05075', 59: '05063,05135,05005,05137,05049', 60: '05113,05097,05149,05083,05131', 61: '05051,05029,05149,05125,05119,05045', 62: '05111,05093,05067,05055,05075', 63: '05141,05045,05145,05063,05137', 64: '05019,05051,05097,05039,05125,05053', 65: '05139,05103,05073,05099', 66: '05019,05039,05139,05013,05099,05027', 67: '05051,05097,05115,05029,05105,05083,05127', 68: '05077,05123,05117,05147,05001,05107', 69: '05111,05035,05031', 70: '05033,05087,05007', 71: '05009,05115,05129,05071,05087,05015', 72: '05039,05139,05103,05025,05011', 73: '05123,05111,05035,05147,05067', 74: '05077,05095,05041,05001'}\n",
      "{0: 5047, 1: 5033, 2: 5067, 3: 5021, 4: 5045, 5: 5005, 6: 5081, 7: 5009, 8: 5003, 9: 5041, 10: 5123, 11: 5097, 12: 5135, 13: 5055, 14: 5147, 15: 5145, 16: 5077, 17: 5029, 18: 5061, 19: 5099, 20: 5119, 21: 5053, 22: 5007, 23: 5087, 24: 5039, 25: 5025, 26: 5035, 27: 5073, 28: 5125, 29: 5017, 30: 5115, 31: 5089, 32: 5117, 33: 5011, 34: 5043, 35: 5109, 36: 5139, 37: 5131, 38: 5075, 39: 5111, 40: 5057, 41: 5137, 42: 5113, 43: 5063, 44: 5085, 45: 5019, 46: 5049, 47: 5083, 48: 5091, 49: 5001, 50: 5015, 51: 5141, 52: 5071, 53: 5129, 54: 5051, 55: 5133, 56: 5069, 57: 5079, 58: 5121, 59: 5065, 60: 5127, 61: 5105, 62: 5031, 63: 5023, 64: 5059, 65: 5027, 66: 5103, 67: 5149, 68: 5095, 69: 5093, 70: 5143, 71: 5101, 72: 5013, 73: 5037, 74: 5107}\n",
      "[(0, {'population': 17097, 'geoid': 5047}), (1, {'population': 60133, 'geoid': 5033}), (2, {'population': 16755, 'geoid': 5067}), (3, {'population': 14552, 'geoid': 5021}), (4, {'population': 123498, 'geoid': 5045}), (5, {'population': 41627, 'geoid': 5005}), (6, {'population': 12026, 'geoid': 5081}), (7, {'population': 37373, 'geoid': 5009}), (8, {'population': 19062, 'geoid': 5003}), (9, {'population': 11395, 'geoid': 5041}), (10, {'population': 23090, 'geoid': 5123}), (11, {'population': 8484, 'geoid': 5097}), (12, {'population': 17271, 'geoid': 5135}), (13, {'population': 45736, 'geoid': 5055}), (14, {'population': 6269, 'geoid': 5147}), (15, {'population': 76822, 'geoid': 5145}), (16, {'population': 8600, 'geoid': 5077}), (17, {'population': 20715, 'geoid': 5029}), (18, {'population': 12785, 'geoid': 5061}), (19, {'population': 8310, 'geoid': 5099}), (20, {'population': 399125, 'geoid': 5119}), (21, {'population': 17958, 'geoid': 5053}), (22, {'population': 284333, 'geoid': 5007}), (23, {'population': 16521, 'geoid': 5087}), (24, {'population': 6482, 'geoid': 5039}), (25, {'population': 7550, 'geoid': 5025}), (26, {'population': 48163, 'geoid': 5035}), (27, {'population': 6308, 'geoid': 5073}), (28, {'population': 123416, 'geoid': 5125}), (29, {'population': 10208, 'geoid': 5017}), (30, {'population': 63381, 'geoid': 5115}), (31, {'population': 16826, 'geoid': 5089}), (32, {'population': 8282, 'geoid': 5117}), (33, {'population': 10545, 'geoid': 5011}), (34, {'population': 17350, 'geoid': 5043}), (35, {'population': 10171, 'geoid': 5109}), (36, {'population': 39054, 'geoid': 5139}), (37, {'population': 127799, 'geoid': 5131}), (38, {'population': 16216, 'geoid': 5075}), (39, {'population': 22965, 'geoid': 5111}), (40, {'population': 20065, 'geoid': 5057}), (41, {'population': 12359, 'geoid': 5137}), (42, {'population': 19221, 'geoid': 5113}), (43, {'population': 37938, 'geoid': 5063}), (44, {'population': 74015, 'geoid': 5085}), (45, {'population': 21446, 'geoid': 5019}), (46, {'population': 12075, 'geoid': 5049}), (47, {'population': 21131, 'geoid': 5083}), (48, {'population': 42600, 'geoid': 5091}), (49, {'population': 17149, 'geoid': 5001}), (50, {'population': 28260, 'geoid': 5015}), (51, {'population': 15796, 'geoid': 5141}), (52, {'population': 25749, 'geoid': 5071}), (53, {'population': 7828, 'geoid': 5129}), (54, {'population': 100180, 'geoid': 5051}), (55, {'population': 15839, 'geoid': 5133}), (56, {'population': 67260, 'geoid': 5069}), (57, {'population': 12941, 'geoid': 5079}), (58, {'population': 18571, 'geoid': 5121}), (59, {'population': 13577, 'geoid': 5065}), (60, {'population': 9836, 'geoid': 5127}), (61, {'population': 10019, 'geoid': 5105}), (62, {'population': 111231, 'geoid': 5031}), (63, {'population': 24711, 'geoid': 5023}), (64, {'population': 33040, 'geoid': 5059}), (65, {'population': 22801, 'geoid': 5027}), (66, {'population': 22650, 'geoid': 5103}), (67, {'population': 20263, 'geoid': 5149}), (68, {'population': 6799, 'geoid': 5095}), (69, {'population': 40685, 'geoid': 5093}), (70, {'population': 245871, 'geoid': 5143}), (71, {'population': 7225, 'geoid': 5101}), (72, {'population': 4739, 'geoid': 5013}), (73, {'population': 16833, 'geoid': 5037}), (74, {'population': 16568, 'geoid': 5107})]\n"
     ]
    }
   ],
   "source": [
    "G = load_graph('data/AR/counties/', 'AR')"
   ]
  },
  {
   "cell_type": "code",
   "execution_count": 6,
   "metadata": {},
   "outputs": [
    {
     "data": {
      "text/plain": [
       "EdgeDataView([])"
      ]
     },
     "execution_count": 6,
     "metadata": {},
     "output_type": "execute_result"
    }
   ],
   "source": [
    "G.edges(data=True)"
   ]
  },
  {
   "cell_type": "code",
   "execution_count": null,
   "metadata": {},
   "outputs": [],
   "source": []
  },
  {
   "cell_type": "code",
   "execution_count": 8,
   "metadata": {},
   "outputs": [],
   "source": [
    "from loading import load_graph\n",
    "G = load_graph('data/RI/')"
   ]
  },
  {
   "cell_type": "code",
   "execution_count": 24,
   "metadata": {},
   "outputs": [],
   "source": [
    "def evaluate_districts(graph, partition, pop_attr='population'):\n",
    "    \"\"\"\n",
    "    Evaluates the new metric for given districts.\n",
    "    - graph: The networkx graph\n",
    "    - partition: A dict mapping node to district\n",
    "    - pop_attr: The attribute name for population\n",
    "    Returns: tuple of (population variance, total intra-district distance)\n",
    "    \"\"\"\n",
    "    # Calculate population per district\n",
    "    district_pops = {}\n",
    "    for node, district in partition.items():\n",
    "        pop = graph.nodes[node].get(pop_attr, 0)\n",
    "        if district in district_pops:\n",
    "            district_pops[district] += pop\n",
    "        else:\n",
    "            district_pops[district] = pop\n",
    "            \n",
    "    # Calculate population variance\n",
    "    pop_variance = np.var(list(district_pops.values()))\n",
    "    \n",
    "    # Calculate total intra-district distance per district\n",
    "    distric_dist = {}\n",
    "    for u, v, data in graph.edges(data=True):\n",
    "        if partition[u] == partition[v]:  # Edge within the same district\n",
    "            district = partition[u]\n",
    "            if district in distric_dist:\n",
    "                distric_dist[district] += data.get('weight', 1)\n",
    "            else:\n",
    "                distric_dist[district] = data.get('weight', 1)\n",
    "            \n",
    "    return pop_variance, distric_dist, district_pops"
   ]
  },
  {
   "cell_type": "code",
   "execution_count": 25,
   "metadata": {},
   "outputs": [],
   "source": [
    "import random\n",
    "random.seed(42)\n",
    "np.random.seed(42)"
   ]
  },
  {
   "cell_type": "code",
   "execution_count": 26,
   "metadata": {},
   "outputs": [],
   "source": [
    "def calculate_population_variance(graph, partition):\n",
    "    \"\"\"\n",
    "    Calculate the variance of the population across districts in the partition.\n",
    "    \"\"\"\n",
    "    district_populations = {}\n",
    "    for node, district in partition.items():\n",
    "        pop = graph.nodes[node].get('population', 0)\n",
    "        if district not in district_populations:\n",
    "            district_populations[district] = 0\n",
    "        district_populations[district] += pop\n",
    "    \n",
    "    populations = list(district_populations.values())\n",
    "    if not populations:  # Prevent division by zero\n",
    "        return 0\n",
    "    return np.var(populations)\n",
    "\n",
    "def calculate_intra_district_distance(graph, partition):\n",
    "    \"\"\"\n",
    "    Calculate the total distance within districts, encouraging compactness.\n",
    "    \"\"\"\n",
    "    total_distance = 0\n",
    "    for (u, v, data) in graph.edges(data=True):\n",
    "        if partition[u] == partition[v]:  # Nodes belong to the same district\n",
    "            total_distance += data.get('weight', 1)  # Assuming 'weight' represents distance\n",
    "    return total_distance\n",
    "\n",
    "def custom_metric(graph, partition, balance_factor=0.5):\n",
    "    \"\"\"\n",
    "    Custom metric combining population variance and intra-district distance.\n",
    "    \n",
    "    Parameters:\n",
    "    - graph: The graph object.\n",
    "    - partition: A dictionary mapping each node to its district.\n",
    "    - balance_factor: Determines the balance between the two objectives. Range: [0, 1].\n",
    "                      0 gives all importance to population variance, 1 gives all to compactness.\n",
    "    \n",
    "    Returns:\n",
    "    - A combined metric score where lower is better.\n",
    "    \"\"\"\n",
    "    pop_variance = calculate_population_variance(graph, partition)\n",
    "    intra_district_distance = calculate_intra_district_distance(graph, partition)\n",
    "    \n",
    "    # Normalize metrics to ensure they are on a similar scale\n",
    "    max_pop_variance = max(pop_variance, 1)  # Prevent division by zero\n",
    "    max_distance = max(intra_district_distance, 1)  # Prevent division by zero\n",
    "    \n",
    "    # Weighted sum of normalized metrics\n",
    "    metric = ((1 - balance_factor) * (pop_variance / max_pop_variance) + \n",
    "              balance_factor * (intra_district_distance / max_distance))\n",
    "    \n",
    "    return metric"
   ]
  },
  {
   "cell_type": "code",
   "execution_count": 30,
   "metadata": {},
   "outputs": [],
   "source": [
    "def aggregate_graph(graph, partition):\n",
    "    \"\"\"\n",
    "    Aggregate the graph based on the current partition, where each community becomes a single node.\n",
    "    \n",
    "    Parameters:\n",
    "    - graph: The original graph.\n",
    "    - partition: A dictionary mapping each node to its community.\n",
    "    \n",
    "    Returns:\n",
    "    - The aggregated graph where each node represents a community.\n",
    "    \"\"\"\n",
    "    # Create a new graph where each node represents a community\n",
    "    aggregated_graph = nx.Graph()\n",
    "    \n",
    "    # Map each node to its community and aggregate edges within communities\n",
    "    community_map = {}\n",
    "    for node, community in partition.items():\n",
    "        if community not in community_map:\n",
    "            community_map[community] = {\n",
    "                'nodes': set(),\n",
    "                'population': 0,\n",
    "                'internal_edges': 0,\n",
    "                'total_edges': 0\n",
    "            }\n",
    "        community_map[community]['nodes'].add(node)\n",
    "        community_map[community]['population'] += graph.nodes[node]['population']\n",
    "    \n",
    "    # Add aggregated communities as nodes\n",
    "    for community, info in community_map.items():\n",
    "        aggregated_graph.add_node(community, population=info['population'])\n",
    "    \n",
    "    # Aggregate edges between communities\n",
    "    for u, v, data in graph.edges(data=True):\n",
    "        cu = partition[u]\n",
    "        cv = partition[v]\n",
    "        if cu == cv:\n",
    "            # Internal edge, add to the internal edges count\n",
    "            community_map[cu]['internal_edges'] += 1\n",
    "        else:\n",
    "            # Edge between communities, add or update edge in the aggregated graph\n",
    "            if aggregated_graph.has_edge(cu, cv):\n",
    "                aggregated_graph[cu][cv]['weight'] += data['weight']\n",
    "            else:\n",
    "                aggregated_graph.add_edge(cu, cv, weight=data['weight'])\n",
    "                \n",
    "    return aggregated_graph"
   ]
  },
  {
   "cell_type": "code",
   "execution_count": 44,
   "metadata": {},
   "outputs": [],
   "source": [
    "def modified_louvain_algorithm(G, custom_metric, iter=0, initial_partition=None):\n",
    "    if initial_partition is None:\n",
    "        # Initialize partition with each node in its own community\n",
    "        partition = {node: node for node in G.nodes()}\n",
    "    else:\n",
    "        partition = initial_partition\n",
    "    \n",
    "    current_metric = custom_metric(G, partition)\n",
    "\n",
    "    while iter < 100 and len(set(partition.values())) > 248:\n",
    "        # Aggregate the graph based on the current partition\n",
    "        aggregated_graph = aggregate_graph(G, partition)\n",
    "\n",
    "        # Prepare a new partition map for the aggregated graph\n",
    "        new_partition = {node: node for node in aggregated_graph.nodes()}\n",
    "\n",
    "        # Apply the optimization recursively on the aggregated graph\n",
    "        optimized_partition = modified_louvain_algorithm(aggregated_graph, custom_metric, iter=iter+1, initial_partition=new_partition)\n",
    "\n",
    "        # Map the optimized partition back to the original graph's nodes\n",
    "        updated_partition = {}\n",
    "        for super_node, community in optimized_partition.items():\n",
    "            for node in partition.keys():\n",
    "                if partition[node] == super_node:\n",
    "                    updated_partition[node] = community\n",
    "        \n",
    "        # Check if there was an improvement\n",
    "        new_metric = custom_metric(G, updated_partition)\n",
    "        if new_metric < current_metric:\n",
    "            partition = updated_partition\n",
    "            current_metric = new_metric\n",
    "            improvement = True\n",
    "        else:\n",
    "            improvement = False\n",
    "    \n",
    "    return partition"
   ]
  },
  {
   "cell_type": "code",
   "execution_count": 45,
   "metadata": {},
   "outputs": [],
   "source": [
    "final_partition = modified_louvain_algorithm(G, custom_metric)\n",
    "print(len(set(final_partition.values())))"
   ]
  },
  {
   "cell_type": "code",
   "execution_count": 23,
   "metadata": {},
   "outputs": [
    {
     "data": {
      "text/plain": [
       "(8380483059.484375,\n",
       " {2: 243, 1: 472, 3: 352, 4: 307, 5: 575, 6: 1, 0: 336, 7: 77},\n",
       " {2: 218283,\n",
       "  1: 215527,\n",
       "  3: 40261,\n",
       "  4: 95866,\n",
       "  5: 132267,\n",
       "  6: 1410,\n",
       "  0: 290801,\n",
       "  7: 102964})"
      ]
     },
     "execution_count": 23,
     "metadata": {},
     "output_type": "execute_result"
    }
   ],
   "source": [
    "\n",
    "# Placeholder for modified Louvain method adaptation\n",
    "\n",
    "# For now, let's just apply the standard Louvain method for community detection\n",
    "partition = community_louvain.best_partition(G)\n",
    "pop_variance, distric_dist, district_pops = evaluate_districts(G, partition)\n",
    "\n",
    "pop_variance, distric_dist, district_pops"
   ]
  },
  {
   "cell_type": "code",
   "execution_count": 17,
   "metadata": {},
   "outputs": [
    {
     "data": {
      "text/plain": [
       "int"
      ]
     },
     "execution_count": 17,
     "metadata": {},
     "output_type": "execute_result"
    }
   ],
   "source": [
    "list(partition.keys())"
   ]
  },
  {
   "cell_type": "code",
   "execution_count": null,
   "metadata": {},
   "outputs": [],
   "source": []
  }
 ],
 "metadata": {
  "kernelspec": {
   "display_name": "Python 3",
   "language": "python",
   "name": "python3"
  },
  "language_info": {
   "codemirror_mode": {
    "name": "ipython",
    "version": 3
   },
   "file_extension": ".py",
   "mimetype": "text/x-python",
   "name": "python",
   "nbconvert_exporter": "python",
   "pygments_lexer": "ipython3",
   "version": "3.11.1"
  }
 },
 "nbformat": 4,
 "nbformat_minor": 2
}
