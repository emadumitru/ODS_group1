{
 "cells": [
  {
   "cell_type": "code",
   "execution_count": 35,
   "metadata": {},
   "outputs": [],
   "source": [
    "# import pandas as pd\n",
    "import networkx as nx\n",
    "# import matplotlib.pyplot as plt\n",
    "from community import community_louvain\n",
    "import numpy as np"
   ]
  },
  {
   "cell_type": "code",
   "execution_count": 8,
   "metadata": {},
   "outputs": [],
   "source": [
    "from loading import load_graph\n",
    "G = load_graph('data/RI/')"
   ]
  },
  {
   "cell_type": "code",
   "execution_count": 24,
   "metadata": {},
   "outputs": [],
   "source": [
    "def evaluate_districts(graph, partition, pop_attr='population'):\n",
    "    \"\"\"\n",
    "    Evaluates the new metric for given districts.\n",
    "    - graph: The networkx graph\n",
    "    - partition: A dict mapping node to district\n",
    "    - pop_attr: The attribute name for population\n",
    "    Returns: tuple of (population variance, total intra-district distance)\n",
    "    \"\"\"\n",
    "    # Calculate population per district\n",
    "    district_pops = {}\n",
    "    for node, district in partition.items():\n",
    "        pop = graph.nodes[node].get(pop_attr, 0)\n",
    "        if district in district_pops:\n",
    "            district_pops[district] += pop\n",
    "        else:\n",
    "            district_pops[district] = pop\n",
    "            \n",
    "    # Calculate population variance\n",
    "    pop_variance = np.var(list(district_pops.values()))\n",
    "    \n",
    "    # Calculate total intra-district distance per district\n",
    "    distric_dist = {}\n",
    "    for u, v, data in graph.edges(data=True):\n",
    "        if partition[u] == partition[v]:  # Edge within the same district\n",
    "            district = partition[u]\n",
    "            if district in distric_dist:\n",
    "                distric_dist[district] += data.get('weight', 1)\n",
    "            else:\n",
    "                distric_dist[district] = data.get('weight', 1)\n",
    "            \n",
    "    return pop_variance, distric_dist, district_pops"
   ]
  },
  {
   "cell_type": "code",
   "execution_count": 25,
   "metadata": {},
   "outputs": [],
   "source": [
    "import random\n",
    "random.seed(42)\n",
    "np.random.seed(42)"
   ]
  },
  {
   "cell_type": "code",
   "execution_count": 26,
   "metadata": {},
   "outputs": [],
   "source": [
    "def calculate_population_variance(graph, partition):\n",
    "    \"\"\"\n",
    "    Calculate the variance of the population across districts in the partition.\n",
    "    \"\"\"\n",
    "    district_populations = {}\n",
    "    for node, district in partition.items():\n",
    "        pop = graph.nodes[node].get('population', 0)\n",
    "        if district not in district_populations:\n",
    "            district_populations[district] = 0\n",
    "        district_populations[district] += pop\n",
    "    \n",
    "    populations = list(district_populations.values())\n",
    "    if not populations:  # Prevent division by zero\n",
    "        return 0\n",
    "    return np.var(populations)\n",
    "\n",
    "def calculate_intra_district_distance(graph, partition):\n",
    "    \"\"\"\n",
    "    Calculate the total distance within districts, encouraging compactness.\n",
    "    \"\"\"\n",
    "    total_distance = 0\n",
    "    for (u, v, data) in graph.edges(data=True):\n",
    "        if partition[u] == partition[v]:  # Nodes belong to the same district\n",
    "            total_distance += data.get('weight', 1)  # Assuming 'weight' represents distance\n",
    "    return total_distance\n",
    "\n",
    "def custom_metric(graph, partition, balance_factor=0.5):\n",
    "    \"\"\"\n",
    "    Custom metric combining population variance and intra-district distance.\n",
    "    \n",
    "    Parameters:\n",
    "    - graph: The graph object.\n",
    "    - partition: A dictionary mapping each node to its district.\n",
    "    - balance_factor: Determines the balance between the two objectives. Range: [0, 1].\n",
    "                      0 gives all importance to population variance, 1 gives all to compactness.\n",
    "    \n",
    "    Returns:\n",
    "    - A combined metric score where lower is better.\n",
    "    \"\"\"\n",
    "    pop_variance = calculate_population_variance(graph, partition)\n",
    "    intra_district_distance = calculate_intra_district_distance(graph, partition)\n",
    "    \n",
    "    # Normalize metrics to ensure they are on a similar scale\n",
    "    max_pop_variance = max(pop_variance, 1)  # Prevent division by zero\n",
    "    max_distance = max(intra_district_distance, 1)  # Prevent division by zero\n",
    "    \n",
    "    # Weighted sum of normalized metrics\n",
    "    metric = ((1 - balance_factor) * (pop_variance / max_pop_variance) + \n",
    "              balance_factor * (intra_district_distance / max_distance))\n",
    "    \n",
    "    return metric"
   ]
  },
  {
   "cell_type": "code",
   "execution_count": 30,
   "metadata": {},
   "outputs": [],
   "source": [
    "def aggregate_graph(graph, partition):\n",
    "    \"\"\"\n",
    "    Aggregate the graph based on the current partition, where each community becomes a single node.\n",
    "    \n",
    "    Parameters:\n",
    "    - graph: The original graph.\n",
    "    - partition: A dictionary mapping each node to its community.\n",
    "    \n",
    "    Returns:\n",
    "    - The aggregated graph where each node represents a community.\n",
    "    \"\"\"\n",
    "    # Create a new graph where each node represents a community\n",
    "    aggregated_graph = nx.Graph()\n",
    "    \n",
    "    # Map each node to its community and aggregate edges within communities\n",
    "    community_map = {}\n",
    "    for node, community in partition.items():\n",
    "        if community not in community_map:\n",
    "            community_map[community] = {\n",
    "                'nodes': set(),\n",
    "                'population': 0,\n",
    "                'internal_edges': 0,\n",
    "                'total_edges': 0\n",
    "            }\n",
    "        community_map[community]['nodes'].add(node)\n",
    "        community_map[community]['population'] += graph.nodes[node]['population']\n",
    "    \n",
    "    # Add aggregated communities as nodes\n",
    "    for community, info in community_map.items():\n",
    "        aggregated_graph.add_node(community, population=info['population'])\n",
    "    \n",
    "    # Aggregate edges between communities\n",
    "    for u, v, data in graph.edges(data=True):\n",
    "        cu = partition[u]\n",
    "        cv = partition[v]\n",
    "        if cu == cv:\n",
    "            # Internal edge, add to the internal edges count\n",
    "            community_map[cu]['internal_edges'] += 1\n",
    "        else:\n",
    "            # Edge between communities, add or update edge in the aggregated graph\n",
    "            if aggregated_graph.has_edge(cu, cv):\n",
    "                aggregated_graph[cu][cv]['weight'] += data['weight']\n",
    "            else:\n",
    "                aggregated_graph.add_edge(cu, cv, weight=data['weight'])\n",
    "                \n",
    "    return aggregated_graph"
   ]
  },
  {
   "cell_type": "code",
   "execution_count": 44,
   "metadata": {},
   "outputs": [],
   "source": [
    "def modified_louvain_algorithm(G, custom_metric, iter=0, initial_partition=None):\n",
    "    if initial_partition is None:\n",
    "        # Initialize partition with each node in its own community\n",
    "        partition = {node: node for node in G.nodes()}\n",
    "    else:\n",
    "        partition = initial_partition\n",
    "    \n",
    "    current_metric = custom_metric(G, partition)\n",
    "\n",
    "    while iter < 100 and len(set(partition.values())) > 248:\n",
    "        # Aggregate the graph based on the current partition\n",
    "        aggregated_graph = aggregate_graph(G, partition)\n",
    "\n",
    "        # Prepare a new partition map for the aggregated graph\n",
    "        new_partition = {node: node for node in aggregated_graph.nodes()}\n",
    "\n",
    "        # Apply the optimization recursively on the aggregated graph\n",
    "        optimized_partition = modified_louvain_algorithm(aggregated_graph, custom_metric, iter=iter+1, initial_partition=new_partition)\n",
    "\n",
    "        # Map the optimized partition back to the original graph's nodes\n",
    "        updated_partition = {}\n",
    "        for super_node, community in optimized_partition.items():\n",
    "            for node in partition.keys():\n",
    "                if partition[node] == super_node:\n",
    "                    updated_partition[node] = community\n",
    "        \n",
    "        # Check if there was an improvement\n",
    "        new_metric = custom_metric(G, updated_partition)\n",
    "        if new_metric < current_metric:\n",
    "            partition = updated_partition\n",
    "            current_metric = new_metric\n",
    "            improvement = True\n",
    "        else:\n",
    "            improvement = False\n",
    "    \n",
    "    return partition"
   ]
  },
  {
   "cell_type": "code",
   "execution_count": 45,
   "metadata": {},
   "outputs": [],
   "source": [
    "final_partition = modified_louvain_algorithm(G, custom_metric)\n",
    "print(len(set(final_partition.values())))"
   ]
  },
  {
   "cell_type": "code",
   "execution_count": 23,
   "metadata": {},
   "outputs": [
    {
     "data": {
      "text/plain": [
       "(8380483059.484375,\n",
       " {2: 243, 1: 472, 3: 352, 4: 307, 5: 575, 6: 1, 0: 336, 7: 77},\n",
       " {2: 218283,\n",
       "  1: 215527,\n",
       "  3: 40261,\n",
       "  4: 95866,\n",
       "  5: 132267,\n",
       "  6: 1410,\n",
       "  0: 290801,\n",
       "  7: 102964})"
      ]
     },
     "execution_count": 23,
     "metadata": {},
     "output_type": "execute_result"
    }
   ],
   "source": [
    "\n",
    "# Placeholder for modified Louvain method adaptation\n",
    "\n",
    "# For now, let's just apply the standard Louvain method for community detection\n",
    "partition = community_louvain.best_partition(G)\n",
    "pop_variance, distric_dist, district_pops = evaluate_districts(G, partition)\n",
    "\n",
    "pop_variance, distric_dist, district_pops"
   ]
  },
  {
   "cell_type": "code",
   "execution_count": 17,
   "metadata": {},
   "outputs": [
    {
     "data": {
      "text/plain": [
       "int"
      ]
     },
     "execution_count": 17,
     "metadata": {},
     "output_type": "execute_result"
    }
   ],
   "source": [
    "list(partition.keys())"
   ]
  },
  {
   "cell_type": "code",
   "execution_count": null,
   "metadata": {},
   "outputs": [],
   "source": []
  }
 ],
 "metadata": {
  "kernelspec": {
   "display_name": "Python 3",
   "language": "python",
   "name": "python3"
  },
  "language_info": {
   "codemirror_mode": {
    "name": "ipython",
    "version": 3
   },
   "file_extension": ".py",
   "mimetype": "text/x-python",
   "name": "python",
   "nbconvert_exporter": "python",
   "pygments_lexer": "ipython3",
   "version": "3.11.1"
  }
 },
 "nbformat": 4,
 "nbformat_minor": 2
}
